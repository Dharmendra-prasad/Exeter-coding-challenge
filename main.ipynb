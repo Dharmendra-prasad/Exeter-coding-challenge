{
 "cells": [
  {
   "cell_type": "code",
   "execution_count": 19,
   "metadata": {},
   "outputs": [
    {
     "name": "stdout",
     "output_type": "stream",
     "text": [
      "115.8515625\n",
      "Wall time: 3.57 s\n"
     ]
    }
   ],
   "source": [
    "\n",
    "%%time\n",
    "import os,psutil\n",
    "import csv\n",
    "\n",
    "#reading dictionary file from csv\n",
    "mydict = {}\n",
    "\n",
    "with open('french_dictionary.csv', mode='r') as inp:\n",
    "    reader = csv.reader(inp)\n",
    "    dict_from_csv = {rows[0]:rows[1] for rows in reader}\n",
    "\n",
    "#print(dict_from_csv)\n",
    "\n",
    "\n",
    "#updating dictionary\n",
    "d1 = {}\n",
    "for key, value in dict_from_csv.items():\n",
    "    d1.setdefault(key, []).append(value)\n",
    "    d1.setdefault(key, []).append(0)\n",
    "d1 =  {k.lower(): v for k, v in d1.items()}\n",
    "#d1\n",
    "\n",
    "\n",
    "#reading text from t8.shakespeare.txt\n",
    "f = open('t8.shakespeare.txt','r')\n",
    "message = f.read()\n",
    "#print(message)\n",
    "f.close()\n",
    "\n",
    "#converting string into list\n",
    "import re\n",
    "message1 = re.split(r\"[\\s[(,.'?!*;_:+<>)-=]+\",message) \n",
    "#message1\n",
    "\n",
    "\n",
    "#replacing thoes words which are present in dictionary \n",
    "new_data = []\n",
    "for word in message1:\n",
    "    w1 = word.lower()\n",
    "    if(w1 in d1):\n",
    "        new_data.append(d1[w1][0])\n",
    "        d1[w1][1] = d1[w1][1]+1\n",
    "    else:\n",
    "        new_data.append(word)\n",
    "#new_data   \n",
    "\n",
    "\n",
    "#now converting the list into string again\n",
    "def convert(new_data):\n",
    "      \n",
    "    return ' '.join(new_data)\n",
    "new_string = convert(new_data)\n",
    "#print(new_string)\n",
    "\n",
    "\n",
    "\n",
    "#creating t8.shakespeare.translated.txt file and writing string in it  \n",
    "with open('t8.shakespeare.translated.txt', \"w\") as myfile:\n",
    "    myfile.write(new_string)\n",
    "    myfile.close()\n",
    "    \n",
    "    \n",
    "#creating new frequency.csv file and storing updated dictionary to it with counting how number of times words repeated   \n",
    "a_file = open(\"frequency.csv\", \"w\", newline='', encoding='utf-8')\n",
    "writer = csv.writer(a_file)\n",
    "writer.writerow([\"English word\",\"French\",\"Frequency\"])\n",
    "for key, value in d1.items():\n",
    "    writer.writerow([key,value[0],value[1]])\n",
    "a_file.close() \n",
    "\n",
    "#memory usage\n",
    "print(psutil.Process(os.getpid()).memory_info().rss / 1024 ** 2)"
   ]
  },
  {
   "cell_type": "code",
   "execution_count": null,
   "metadata": {},
   "outputs": [],
   "source": []
  },
  {
   "cell_type": "code",
   "execution_count": null,
   "metadata": {},
   "outputs": [],
   "source": []
  }
 ],
 "metadata": {
  "kernelspec": {
   "display_name": "Python 3",
   "language": "python",
   "name": "python3"
  },
  "language_info": {
   "codemirror_mode": {
    "name": "ipython",
    "version": 3
   },
   "file_extension": ".py",
   "mimetype": "text/x-python",
   "name": "python",
   "nbconvert_exporter": "python",
   "pygments_lexer": "ipython3",
   "version": "3.8.3"
  }
 },
 "nbformat": 4,
 "nbformat_minor": 4
}
